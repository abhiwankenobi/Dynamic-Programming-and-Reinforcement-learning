{
 "cells": [
  {
   "cell_type": "code",
   "execution_count": 1,
   "metadata": {},
   "outputs": [],
   "source": [
    "import numpy as np"
   ]
  },
  {
   "cell_type": "code",
   "execution_count": 2,
   "metadata": {},
   "outputs": [
    {
     "name": "stdout",
     "output_type": "stream",
     "text": [
      "Probability Matrix :  [[0.1  0.9  0.   ... 0.   0.   0.  ]\n",
      " [0.11 0.   0.89 ... 0.   0.   0.  ]\n",
      " [0.12 0.   0.   ... 0.   0.   0.  ]\n",
      " ...\n",
      " [0.98 0.   0.   ... 0.   0.02 0.  ]\n",
      " [0.99 0.   0.   ... 0.   0.   0.01]\n",
      " [1.   0.   0.   ... 0.   0.   0.  ]] \n",
      "\n",
      "Stationary distribution :  [0.1461 0.1315 0.1170 0.1030 0.0896 0.0771 0.0655 0.0550 0.0457 0.0374\n",
      " 0.0303 0.0243 0.0192 0.0150 0.0115 0.0087 0.0066 0.0049 0.0035 0.0026\n",
      " 0.0018 0.0013 0.0009 0.0006 0.0004 0.0003 0.0002 0.0001 0.0001 0.0000\n",
      " 0.0000 0.0000 0.0000 0.0000 0.0000 0.0000 0.0000 0.0000 0.0000 0.0000\n",
      " 0.0000 0.0000 0.0000 0.0000 0.0000 0.0000 0.0000 0.0000 0.0000 0.0000\n",
      " 0.0000 0.0000 0.0000 0.0000 0.0000 0.0000 0.0000 0.0000 0.0000 0.0000\n",
      " 0.0000 0.0000 0.0000 0.0000 0.0000 0.0000 0.0000 0.0000 0.0000 0.0000\n",
      " 0.0000 0.0000 0.0000 0.0000 0.0000 0.0000 0.0000 0.0000 0.0000 0.0000\n",
      " 0.0000 0.0000 0.0000 0.0000 0.0000 0.0000 0.0000 0.0000 0.0000 0.0000\n",
      " 0.0000] \n",
      "\n",
      "long run average cost i.e phi :  0.1461 \n",
      "\n"
     ]
    }
   ],
   "source": [
    "# --- PART A : FINIDNG STATIONARY DISTRIBUTION AND LONG RUN AVERAGE COST --- #\n",
    "states = 91\n",
    "P = np.zeros((states,states))\n",
    "Pi = np.zeros((states))\n",
    "Pi[0] = 1\n",
    "for i in range(states):\n",
    "    P[i][0] = 0.1 + i*0.01\n",
    "    if i < 90:\n",
    "        P[i][i+1] = 0.9 - i*0.01\n",
    "print(\"Probability Matrix : \",P,\"\\n\")\n",
    "r = np.zeros((states))\n",
    "r[0] = 1\n",
    "for i in range(states):\n",
    "    Pi=np.matmul(Pi,P)\n",
    "np.set_printoptions(formatter={'float': lambda x: \"{0:0.4f}\".format(x)})\n",
    "print(\"Stationary distribution : \", Pi,\"\\n\")\n",
    "phi = r@Pi\n",
    "print(\"long run average cost i.e phi : \", round(phi,4),\"\\n\")"
   ]
  },
  {
   "cell_type": "code",
   "execution_count": 3,
   "metadata": {},
   "outputs": [
    {
     "name": "stdout",
     "output_type": "stream",
     "text": [
      "Avg cost after solving poisson eqn : 0.1461 \n",
      "\n"
     ]
    }
   ],
   "source": [
    "# --- PART B : SOLVING THE POISSON EQUATION --- #\n",
    "def Poisson(r,P):\n",
    "    reward = np.append(r,0)\n",
    "    poisson = np.identity(91)-P\n",
    "    poisson = np.pad(poisson, [(0, 1), (0, 1)], mode='constant', constant_values=1)\n",
    "    poisson[91][91] = 0\n",
    "    poisson = np.linalg.solve(poisson, reward)\n",
    "    return poisson\n",
    "print(\"Avg cost after solving poisson eqn :\",round(Poisson(r,P)[-1],4),\"\\n\")"
   ]
  },
  {
   "cell_type": "code",
   "execution_count": 4,
   "metadata": {},
   "outputs": [],
   "source": [
    "# --- PART C --- #\n",
    "Prob_actions1 = P\n",
    "reward_actions1 = np.zeros((states))\n",
    "for i in range(states):\n",
    "    reward_actions1[i] = i*0.01 + 0.1\n",
    "\n",
    "Prob_actions2 = np.zeros((states,states))\n",
    "reward_actions2 = np.zeros((states))\n",
    "for i in range(states):\n",
    "    Prob_actions2[i][0] = 1\n",
    "    reward_actions2[i] = 0.5\n",
    "    \n",
    "def optimal(x,y):\n",
    "    optimality = np.zeros((len(x)))\n",
    "    for i in range(len(x)):\n",
    "        if x[i]<y[i]:\n",
    "            optimality[i] = 1\n",
    "        else:\n",
    "            optimality[i] = 2\n",
    "    return optimality\n"
   ]
  },
  {
   "cell_type": "code",
   "execution_count": 5,
   "metadata": {},
   "outputs": [
    {
     "name": "stdout",
     "output_type": "stream",
     "text": [
      "Policy - :\n",
      " [1.0000 1.0000 1.0000 1.0000 1.0000 1.0000 1.0000 1.0000 1.0000 1.0000\n",
      " 1.0000 1.0000 1.0000 2.0000 2.0000 2.0000 2.0000 2.0000 2.0000 2.0000\n",
      " 2.0000 2.0000 2.0000 2.0000 2.0000 2.0000 2.0000 2.0000 2.0000 2.0000\n",
      " 2.0000 2.0000 2.0000 2.0000 2.0000 2.0000 2.0000 2.0000 2.0000 2.0000\n",
      " 2.0000 2.0000 2.0000 2.0000 2.0000 2.0000 2.0000 2.0000 2.0000 2.0000\n",
      " 2.0000 2.0000 2.0000 2.0000 2.0000 2.0000 2.0000 2.0000 2.0000 2.0000\n",
      " 2.0000 2.0000 2.0000 2.0000 2.0000 2.0000 2.0000 2.0000 2.0000 2.0000\n",
      " 2.0000 2.0000 2.0000 2.0000 2.0000 2.0000 2.0000 2.0000 2.0000 2.0000\n",
      " 2.0000 2.0000 2.0000 2.0000 2.0000 2.0000 2.0000 2.0000 2.0000 2.0000\n",
      " 2.0000]\n",
      "preventive actions starts from :\n",
      " [13]\n",
      "Policy iteration Phi:  0.14491799482409007\n"
     ]
    }
   ],
   "source": [
    "# --- PART C (a) : POLICY ITERATION --- #\n",
    "policy = np.zeros((states)) \n",
    "for i in range(states): \n",
    "    r = np.zeros((states))\n",
    "    P = np.zeros((states,states))\n",
    "    for j in range(states): \n",
    "        if policy[j] == 1: \n",
    "            r[j] = reward_actions1[j]\n",
    "            P[j] = Prob_actions1[j]\n",
    "        else:\n",
    "            r[j] = reward_actions2[j]\n",
    "            P[j] = Prob_actions2[j]\n",
    "  \n",
    "    poisson = Poisson(r,P)[:-1] \n",
    "    actions1 = reward_actions1 + Prob_actions1@poisson\n",
    "    actions2 = reward_actions2 + Prob_actions2@poisson\n",
    "    policy = optimal(actions1,actions2)\n",
    "\n",
    "    if i == 90:\n",
    "        phi = Poisson(r,P)[-1]\n",
    "\n",
    "print(\"Policy - :\\n\", policy)\n",
    "print(\"preventive actions starts from :\\n\", np.argwhere(policy==2)[0])\n",
    "print(\"Policy iteration Phi: \", phi)"
   ]
  },
  {
   "cell_type": "code",
   "execution_count": 21,
   "metadata": {},
   "outputs": [
    {
     "name": "stdout",
     "output_type": "stream",
     "text": [
      "Value iteration phi:  0.14491799848026332\n"
     ]
    }
   ],
   "source": [
    "# --- PART C (b) : VALUE ITERATION --- #\n",
    "V_alpha= np.zeros((states))\n",
    "\n",
    "for i in range(states):\n",
    "    V_actions1 = reward_actions1 + Prob_actions1@V_alpha\n",
    "    V_actions2 = reward_actions2 + Prob_actions2@V_alpha\n",
    "    V_star = np.minimum(V_actions1,V_actions2)\n",
    "    if i == 90:\n",
    "        phi = (V_star - V_alpha)\n",
    "    V_alpha = V_star\n",
    "    \n",
    "print(\"Value iteration phi: \", phi[0])"
   ]
  }
 ],
 "metadata": {
  "kernelspec": {
   "display_name": "Python 3",
   "language": "python",
   "name": "python3"
  },
  "language_info": {
   "codemirror_mode": {
    "name": "ipython",
    "version": 3
   },
   "file_extension": ".py",
   "mimetype": "text/x-python",
   "name": "python",
   "nbconvert_exporter": "python",
   "pygments_lexer": "ipython3",
   "version": "3.8.3"
  }
 },
 "nbformat": 4,
 "nbformat_minor": 4
}
